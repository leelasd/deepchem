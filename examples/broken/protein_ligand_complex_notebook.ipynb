{
 "cells": [
  {
   "cell_type": "markdown",
   "metadata": {},
   "source": [
    "# ```deepchem```: Machine Learning models for Drug Discovery\n",
    "#Tutorial 1: Basic Protein-Ligand Complex Featurized Models"
   ]
  },
  {
   "cell_type": "markdown",
   "metadata": {},
   "source": [
    "Written by Evan Feinberg and Bharath Ramsundar\n",
    "\n",
    "Copyright 2016, Stanford University\n",
    "\n",
    "#Welcome to the ```deepchem``` tutorial. In this iPython Notebook, one can follow along with the code below to learn how to fit machine learning models with rich predictive power on chemical datasets.  "
   ]
  },
  {
   "cell_type": "markdown",
   "metadata": {},
   "source": [
    "Overview:\n",
    "\n",
    "In this tutorial, you will trace an arc from loading a raw dataset to fitting a cutting edge ML technique for predicting binding affinities. This will be accomplished by writing simple commands to access the deepchem Python API, encompassing the following broad steps:\n",
    "\n",
    "1. Loading a chemical dataset, consisting of a series of protein-ligand complexes.\n",
    "2. Featurizing each protein-ligand complexes with various featurization schemes. \n",
    "3. Fitting a series of models with these featurized protein-ligand complexes.\n",
    "4. Visualizing the results."
   ]
  },
  {
   "cell_type": "markdown",
   "metadata": {},
   "source": [
    "First, let's point to a \"dataset\" file. This can come in the format of a CSV file or Pandas DataFrame. Regardless\n",
    "of file format, it must be columnar data, where each row is a molecular system, and each column represents\n",
    "a different piece of information about that system. For instance, in this example, every row reflects a \n",
    "protein-ligand complex, and the following columns are present: a unique complex identifier; the SMILES string\n",
    "of the ligand; the binding affinity (Ki) of the ligand to the protein in the complex; a Python `list` of all lines\n",
    "in a PDB file for the protein alone; and a Python `list` of all lines in a ligand file for the ligand alone.\n",
    "\n",
    "This should become clearer with the example. (Make sure to set `DISPLAY = True`)\n"
   ]
  },
  {
   "cell_type": "code",
   "execution_count": 1,
   "metadata": {
    "collapsed": false
   },
   "outputs": [
    {
     "name": "stdout",
     "output_type": "stream",
     "text": [
      "Automatic pdb calling has been turned OFF\n"
     ]
    }
   ],
   "source": [
    "%load_ext autoreload\n",
    "%autoreload 2\n",
    "%pdb off\n",
    "# set DISPLAY = True when running tutorial\n",
    "DISPLAY = False\n",
    "# set PARALLELIZE to true if you want to use ipyparallel\n",
    "PARALLELIZE = False\n",
    "import warnings\n",
    "warnings.filterwarnings('ignore')"
   ]
  },
  {
   "cell_type": "code",
   "execution_count": 2,
   "metadata": {
    "collapsed": true
   },
   "outputs": [],
   "source": [
    "dataset_file= \"../datasets/pdbbind_core_df.pkl.gz\"\n",
    "from deepchem.utils.save import load_from_disk\n",
    "dataset = load_from_disk(dataset_file)"
   ]
  },
  {
   "cell_type": "markdown",
   "metadata": {},
   "source": [
    "Let's see what `dataset` looks like:"
   ]
  },
  {
   "cell_type": "code",
   "execution_count": 3,
   "metadata": {
    "collapsed": false
   },
   "outputs": [
    {
     "name": "stdout",
     "output_type": "stream",
     "text": [
      "Type of dataset is: <class 'pandas.core.frame.DataFrame'>\n",
      "  pdb_id                                             smiles  \\\n",
      "0   2d3u        CC1CCCCC1S(O)(O)NC1CC(C2CCC(CN)CC2)SC1C(O)O   \n",
      "1   3cyx  CC(C)(C)NC(O)C1CC2CCCCC2C[NH+]1CC(O)C(CC1CCCCC...   \n",
      "2   3uo4        OC(O)C1CCC(NC2NCCC(NC3CCCCC3C3CCCCC3)N2)CC1   \n",
      "3   1p1q                         CC1ONC(O)C1CC([NH3+])C(O)O   \n",
      "4   3ag9  NC(O)C(CCC[NH2+]C([NH3+])[NH3+])NC(O)C(CCC[NH2...   \n",
      "\n",
      "                                          complex_id  \\\n",
      "0    2d3uCC1CCCCC1S(O)(O)NC1CC(C2CCC(CN)CC2)SC1C(O)O   \n",
      "1  3cyxCC(C)(C)NC(O)C1CC2CCCCC2C[NH+]1CC(O)C(CC1C...   \n",
      "2    3uo4OC(O)C1CCC(NC2NCCC(NC3CCCCC3C3CCCCC3)N2)CC1   \n",
      "3                     1p1qCC1ONC(O)C1CC([NH3+])C(O)O   \n",
      "4  3ag9NC(O)C(CCC[NH2+]C([NH3+])[NH3+])NC(O)C(CCC...   \n",
      "\n",
      "                                         protein_pdb  \\\n",
      "0  [HEADER    2D3U PROTEIN\\n, COMPND    2D3U PROT...   \n",
      "1  [HEADER    3CYX PROTEIN\\n, COMPND    3CYX PROT...   \n",
      "2  [HEADER    3UO4 PROTEIN\\n, COMPND    3UO4 PROT...   \n",
      "3  [HEADER    1P1Q PROTEIN\\n, COMPND    1P1Q PROT...   \n",
      "4  [HEADER    3AG9 PROTEIN\\n, COMPND    3AG9 PROT...   \n",
      "\n",
      "                                          ligand_pdb  \\\n",
      "0  [COMPND    2d3u ligand \\n, AUTHOR    GENERATED...   \n",
      "1  [COMPND    3cyx ligand \\n, AUTHOR    GENERATED...   \n",
      "2  [COMPND    3uo4 ligand \\n, AUTHOR    GENERATED...   \n",
      "3  [COMPND    1p1q ligand \\n, AUTHOR    GENERATED...   \n",
      "4  [COMPND    3ag9 ligand \\n, AUTHOR    GENERATED...   \n",
      "\n",
      "                                         ligand_mol2 label  \n",
      "0  [### \\n, ### Created by X-TOOL on Thu Aug 28 2...  6.92  \n",
      "1  [### \\n, ### Created by X-TOOL on Thu Aug 28 2...  8.00  \n",
      "2  [### \\n, ### Created by X-TOOL on Fri Aug 29 0...  6.52  \n",
      "3  [### \\n, ### Created by X-TOOL on Thu Aug 28 2...  4.89  \n",
      "4  [### \\n, ### Created by X-TOOL on Thu Aug 28 2...  8.05  \n",
      "Shape of dataset is: (193, 7)\n"
     ]
    }
   ],
   "source": [
    "print(\"Type of dataset is: %s\" % str(type(dataset)))\n",
    "print(dataset[:5])\n",
    "print(\"Shape of dataset is: %s\" % str(dataset.shape))"
   ]
  },
  {
   "cell_type": "markdown",
   "metadata": {},
   "source": [
    "One of the missions of ```deepchem``` is to form a synapse between the chemical and the algorithmic worlds: to be able to leverage the powerful and diverse array of tools available in Python to analyze molecules. This ethos applies to visual as much as quantitative examination:"
   ]
  },
  {
   "cell_type": "code",
   "execution_count": 4,
   "metadata": {
    "collapsed": false,
    "scrolled": true
   },
   "outputs": [],
   "source": [
    "import nglview\n",
    "import tempfile\n",
    "import os\n",
    "import mdtraj as md\n",
    "import numpy as np\n",
    "import deepchem.utils.visualization\n",
    "from deepchem.utils.visualization import combine_mdtraj, visualize_complex, convert_lines_to_mdtraj\n",
    "\n",
    "first_protein, first_ligand = dataset.iloc[0][\"protein_pdb\"], dataset.iloc[0][\"ligand_pdb\"]\n",
    "\n",
    "protein_mdtraj = convert_lines_to_mdtraj(first_protein)\n",
    "ligand_mdtraj = convert_lines_to_mdtraj(first_ligand)\n",
    "complex_mdtraj = combine_mdtraj(protein_mdtraj, ligand_mdtraj)"
   ]
  },
  {
   "cell_type": "code",
   "execution_count": 5,
   "metadata": {
    "collapsed": false,
    "slideshow": {
     "slide_type": "slide"
    }
   },
   "outputs": [],
   "source": [
    "if DISPLAY:\n",
    "    ngltraj = visualize_complex(complex_mdtraj)\n",
    "    ngltraj"
   ]
  },
  {
   "cell_type": "markdown",
   "metadata": {},
   "source": [
    "Now that we're oriented, let's use ML to do some chemistry. \n",
    "\n",
    "So, step (2) will entail featurizing the dataset.\n",
    "\n",
    "The available featurizations that come standard with deepchem are ECFP4 fingerprints, RDKit descriptors, NNScore-style bdescriptors, and hybrid binding pocket descriptors. Details can be found on ```deepchem.io```."
   ]
  },
  {
   "cell_type": "code",
   "execution_count": 6,
   "metadata": {
    "collapsed": false
   },
   "outputs": [],
   "source": [
    "from deepchem.featurizers.fingerprints import CircularFingerprint\n",
    "from deepchem.featurizers.basic import RDKitDescriptors\n",
    "from deepchem.featurizers.nnscore import NNScoreComplexFeaturizer\n",
    "from deepchem.featurizers.grid_featurizer import GridFeaturizer\n",
    "grid_featurizer = GridFeaturizer(voxel_width=16.0, feature_types=\"voxel_combined\", voxel_feature_types=[\"ecfp\",\n",
    "                                 \"splif\", \"hbond\", \"pi_stack\", \"cation_pi\", \"salt_bridge\"], ecfp_power=5, splif_power=5,\n",
    "                                 parallel=True, flatten=True)\n",
    "compound_featurizers = [CircularFingerprint(size=128)]\n",
    "# TODO(rbharath, enf): The grid featurizer breaks. Need to debug before code release\n",
    "complex_featurizers = []\n",
    "#complex_featurizers = [grid_featurizer]"
   ]
  },
  {
   "cell_type": "markdown",
   "metadata": {},
   "source": [
    "Note how we separate our featurizers into those that featurize individual chemical compounds, compound_featurizers, and those that featurize molecular complexes, complex_featurizers.\n",
    "\n",
    "Now, let's perform the actual featurization. Calling ```featurizer.featurize()``` will return an instance of class ```FeaturizedSamples```. Internally, ```featurizer.featurize()``` (a) computes the user-specified features on the data, (b) transforms the inputs into X and y NumPy arrays suitable for ML algorithms, and (c) constructs a ```FeaturizedSamples()``` instance that has useful methods, such as an iterator, over the featurized data."
   ]
  },
  {
   "cell_type": "code",
   "execution_count": 7,
   "metadata": {
    "collapsed": true
   },
   "outputs": [],
   "source": [
    "#Make a directory in which to store the featurized complexes.\n",
    "import tempfile, shutil\n",
    "base_dir = \"./tutorial_output\"\n",
    "if not os.path.exists(base_dir):\n",
    "    os.makedirs(base_dir)\n",
    "data_dir = os.path.join(base_dir, \"data\")\n",
    "if not os.path.exists(data_dir):\n",
    "    os.makedirs(data_dir)\n",
    "    \n",
    "featurized_samples_file = os.path.join(data_dir, \"featurized_samples.joblib\")\n",
    "\n",
    "feature_dir = os.path.join(base_dir, \"features\")\n",
    "if not os.path.exists(feature_dir):\n",
    "    os.makedirs(feature_dir)\n",
    "\n",
    "samples_dir = os.path.join(base_dir, \"samples\")\n",
    "if not os.path.exists(samples_dir):\n",
    "    os.makedirs(samples_dir)\n",
    "\n",
    "train_dir = os.path.join(base_dir, \"train\")\n",
    "if not os.path.exists(train_dir):\n",
    "    os.makedirs(train_dir)\n",
    "\n",
    "valid_dir = os.path.join(base_dir, \"valid\")\n",
    "if not os.path.exists(valid_dir):\n",
    "    os.makedirs(valid_dir)\n",
    "\n",
    "test_dir = os.path.join(base_dir, \"test\")\n",
    "if not os.path.exists(test_dir):\n",
    "    os.makedirs(test_dir)\n",
    "\n",
    "model_dir = os.path.join(base_dir, \"model\")\n",
    "if not os.path.exists(model_dir):\n",
    "    os.makedirs(model_dir)"
   ]
  },
  {
   "cell_type": "code",
   "execution_count": 8,
   "metadata": {
    "collapsed": false
   },
   "outputs": [],
   "source": [
    "import deepchem.featurizers.featurize\n",
    "from deepchem.featurizers.featurize import DataFeaturizer"
   ]
  },
  {
   "cell_type": "code",
   "execution_count": 9,
   "metadata": {
    "collapsed": false
   },
   "outputs": [],
   "source": [
    "featurizers = compound_featurizers + complex_featurizers\n",
    "featurizer = DataFeaturizer(tasks=[\"label\"],\n",
    "                            smiles_field=\"smiles\",\n",
    "                            protein_pdb_field=\"protein_pdb\",\n",
    "                            ligand_pdb_field=\"ligand_pdb\",\n",
    "                            compound_featurizers=compound_featurizers,\n",
    "                            complex_featurizers=complex_featurizers,\n",
    "                            id_field=\"complex_id\",\n",
    "                            verbose=False)\n",
    "if PARALLELIZE:\n",
    "    from ipyparallel import Client\n",
    "    c = Client()\n",
    "    dview = c[:]\n",
    "else:\n",
    "    dview = None\n",
    "featurized_samples = featurizer.featurize(dataset_file, feature_dir, samples_dir,\n",
    "                                          worker_pool=dview, shard_size=32)\n",
    "\n",
    "from deepchem.utils.save import save_to_disk, load_from_disk\n",
    "\n",
    "save_to_disk(featurized_samples, featurized_samples_file)"
   ]
  },
  {
   "cell_type": "code",
   "execution_count": 10,
   "metadata": {
    "collapsed": false
   },
   "outputs": [],
   "source": [
    "featurized_samples = load_from_disk(featurized_samples_file)"
   ]
  },
  {
   "cell_type": "markdown",
   "metadata": {},
   "source": [
    "Now, we conduct a train-test split. If you'd like, you can choose `splittype=\"scaffold\"` instead to perform a train-test split based on Bemis-Murcko scaffolds."
   ]
  },
  {
   "cell_type": "code",
   "execution_count": 11,
   "metadata": {
    "collapsed": false
   },
   "outputs": [],
   "source": [
    "splittype = \"random\"\n",
    "\n",
    "train_samples, test_samples = featurized_samples.train_test_split(\n",
    "    splittype, train_dir, test_dir, seed=2016)"
   ]
  },
  {
   "cell_type": "markdown",
   "metadata": {},
   "source": [
    "We generate separate instances of the Dataset() object to hermetically seal the train dataset from the test dataset. This style lends itself easily to validation-set type hyperparameter searches, which we will illustate in a separate section of this tutorial. "
   ]
  },
  {
   "cell_type": "code",
   "execution_count": 12,
   "metadata": {
    "collapsed": false
   },
   "outputs": [],
   "source": [
    "from deepchem.utils.dataset import Dataset"
   ]
  },
  {
   "cell_type": "code",
   "execution_count": 13,
   "metadata": {
    "collapsed": false
   },
   "outputs": [],
   "source": [
    "train_dataset = Dataset(data_dir=train_dir, samples=train_samples, \n",
    "                        featurizers=compound_featurizers, tasks=[\"label\"])\n",
    "test_dataset = Dataset(data_dir=test_dir, samples=test_samples, \n",
    "                       featurizers=compound_featurizers, tasks=[\"label\"])"
   ]
  },
  {
   "cell_type": "markdown",
   "metadata": {},
   "source": [
    "The performance of many ML algorithms hinges greatly on careful data preprocessing. Deepchem comes standard with a few options for such preprocessing."
   ]
  },
  {
   "cell_type": "code",
   "execution_count": 14,
   "metadata": {
    "collapsed": false
   },
   "outputs": [],
   "source": [
    "from deepchem.transformers import NormalizationTransformer\n",
    "from deepchem.transformers import ClippingTransformer\n",
    "\n",
    "input_transformers = [NormalizationTransformer(transform_X=True, dataset=train_dataset),\n",
    "                      ClippingTransformer(transform_X=True, dataset=train_dataset)]\n",
    "output_transformers = [NormalizationTransformer(transform_y=True, dataset=train_dataset)]\n",
    "transformers = input_transformers + output_transformers\n",
    "for transformer in transformers:\n",
    "    transformer.transform(train_dataset)\n",
    "for transformer in transformers:\n",
    "    transformer.transform(test_dataset)"
   ]
  },
  {
   "cell_type": "markdown",
   "metadata": {},
   "source": [
    "Now, we're ready to do some learning! To set up a model, we will need: (a) a dictionary ```task_types``` that maps a task, in this case ```label```, i.e. the Ki, to the type of the task, in this case ```regression```. For the multitask use case, one will have a series of keys, each of which is a different task (Ki, solubility, renal half-life, etc.) that maps to a different task type (regression or classification).\n",
    "\n",
    "To fit a deepchem model, first we instantiate one of the provided (or user-written) model classes. In this case, we have a created a convenience class to wrap around any ML model available in Sci-Kit Learn that can in turn be used to interoperate with deepchem. To instantiate an ```SklearnModel```, you will need (a) task_types, (b) model_params, another ```dict``` as illustrated below, and (c) a ```model_instance``` defining the type of model you would like to fit, in this case a ```RandomForestRegressor```."
   ]
  },
  {
   "cell_type": "code",
   "execution_count": 15,
   "metadata": {
    "collapsed": false
   },
   "outputs": [],
   "source": [
    "from sklearn.ensemble import RandomForestRegressor\n",
    "from deepchem.models.standard import SklearnModel"
   ]
  },
  {
   "cell_type": "code",
   "execution_count": 16,
   "metadata": {
    "collapsed": false
   },
   "outputs": [],
   "source": [
    "task_types = {\"label\": \"regression\"}\n",
    "model_params = {\"data_shape\": train_dataset.get_data_shape()}\n",
    "\n",
    "model = SklearnModel(task_types, model_params, model_instance=RandomForestRegressor())\n",
    "model.fit(train_dataset)\n",
    "model_dir = tempfile.mkdtemp()\n",
    "model.save(model_dir)"
   ]
  },
  {
   "cell_type": "code",
   "execution_count": 17,
   "metadata": {
    "collapsed": true
   },
   "outputs": [],
   "source": [
    "from deepchem.utils.evaluate import Evaluator\n",
    "import pandas as pd"
   ]
  },
  {
   "cell_type": "code",
   "execution_count": 18,
   "metadata": {
    "collapsed": false
   },
   "outputs": [
    {
     "name": "stdout",
     "output_type": "stream",
     "text": [
      "Saving predictions to <open file '<fdopen>', mode 'w+b' at 0x7f389f4c3c00>\n",
      "Saving model performance scores to <open file '<fdopen>', mode 'w+b' at 0x7f389f4c3db0>\n",
      "Saving predictions to <open file '<fdopen>', mode 'w+b' at 0x7f389f4c3d20>\n",
      "Saving model performance scores to <open file '<fdopen>', mode 'w+b' at 0x7f389f4c3e40>\n",
      "/tmp/tmpK2BRxB\n"
     ]
    },
    {
     "data": {
      "text/html": [
       "<div>\n",
       "<table border=\"1\" class=\"dataframe\">\n",
       "  <thead>\n",
       "    <tr style=\"text-align: right;\">\n",
       "      <th></th>\n",
       "      <th>task_name</th>\n",
       "      <th>r2_score</th>\n",
       "      <th>rms_error</th>\n",
       "      <th>split</th>\n",
       "    </tr>\n",
       "  </thead>\n",
       "  <tbody>\n",
       "    <tr>\n",
       "      <th>0</th>\n",
       "      <td>label</td>\n",
       "      <td>0.801475</td>\n",
       "      <td>0.959558</td>\n",
       "      <td>train</td>\n",
       "    </tr>\n",
       "    <tr>\n",
       "      <th>0</th>\n",
       "      <td>label</td>\n",
       "      <td>0.218699</td>\n",
       "      <td>2.273835</td>\n",
       "      <td>test</td>\n",
       "    </tr>\n",
       "  </tbody>\n",
       "</table>\n",
       "</div>"
      ],
      "text/plain": [
       "  task_name  r2_score  rms_error  split\n",
       "0     label  0.801475   0.959558  train\n",
       "0     label  0.218699   2.273835   test"
      ]
     },
     "execution_count": 18,
     "metadata": {},
     "output_type": "execute_result"
    }
   ],
   "source": [
    "evaluator = Evaluator(model, train_dataset, output_transformers, verbose=True)\n",
    "with tempfile.NamedTemporaryFile() as train_csv_out:\n",
    "  with tempfile.NamedTemporaryFile() as train_stats_out:\n",
    "    _, train_r2score = evaluator.compute_model_performance(\n",
    "        train_csv_out, train_stats_out)\n",
    "\n",
    "evaluator = Evaluator(model, test_dataset, output_transformers, verbose=True)\n",
    "test_csv_out = tempfile.NamedTemporaryFile()\n",
    "with tempfile.NamedTemporaryFile() as test_stats_out:\n",
    "    _, test_r2score = evaluator.compute_model_performance(\n",
    "        test_csv_out, test_stats_out)\n",
    "\n",
    "print test_csv_out.name\n",
    "train_test_performance = pd.concat([train_r2score, test_r2score])\n",
    "train_test_performance[\"split\"] = [\"train\", \"test\"]\n",
    "train_test_performance"
   ]
  },
  {
   "cell_type": "markdown",
   "metadata": {},
   "source": [
    "In this simple example, in few yet intuitive lines of code, we traced the machine learning arc from featurizing a raw dataset to fitting and evaluating a model. \n",
    "\n",
    "Here, we featurized only the ligand. The signal we observed in R^2 reflects the ability of circular fingerprints and random forests to learn general features that make ligands \"drug-like.\""
   ]
  },
  {
   "cell_type": "code",
   "execution_count": 19,
   "metadata": {
    "collapsed": false
   },
   "outputs": [],
   "source": [
    "predictions = pd.read_csv(test_csv_out.name)\n",
    "predictions = predictions.sort(['label'], ascending=[0])"
   ]
  },
  {
   "cell_type": "code",
   "execution_count": 20,
   "metadata": {
    "collapsed": false
   },
   "outputs": [],
   "source": [
    "from deepchem.utils.visualization import visualize_ligand\n",
    "\n",
    "top_ligand = predictions.iloc[0]['ids']\n",
    "ligand1 = convert_lines_to_mdtraj(dataset.loc[dataset['complex_id']==top_ligand]['ligand_pdb'].values[0])\n",
    "if DISPLAY:\n",
    "    ngltraj = visualize_ligand(ligand1)\n",
    "    ngltraj"
   ]
  },
  {
   "cell_type": "code",
   "execution_count": 21,
   "metadata": {
    "collapsed": false,
    "slideshow": {
     "slide_type": "-"
    }
   },
   "outputs": [],
   "source": [
    "worst_ligand = predictions.iloc[predictions.shape[0]-2]['ids']\n",
    "ligand1 = convert_lines_to_mdtraj(dataset.loc[dataset['complex_id']==worst_ligand]['ligand_pdb'].values[0])\n",
    "if DISPLAY:\n",
    "    ngltraj = visualize_ligand(ligand1)\n",
    "    ngltraj"
   ]
  },
  {
   "cell_type": "markdown",
   "metadata": {},
   "source": [
    "# The protein-ligand complex view."
   ]
  },
  {
   "cell_type": "markdown",
   "metadata": {},
   "source": [
    "The preceding simple example, in few yet intuitive lines of code, traces the machine learning arc from featurizing a raw dataset to fitting and evaluating a model. \n",
    "\n",
    "In this next section, we illustrate ```deepchem```'s modularity, and thereby the ease with which one can explore different featurization schemes, different models, and combinations thereof, to achieve the best performance on a given dataset. We will demonstrate this by examining protein-ligand interactions. "
   ]
  },
  {
   "cell_type": "markdown",
   "metadata": {},
   "source": [
    "In the previous section, we featurized only the ligand. The signal we observed in R^2 reflects the ability of circular fingerprints and random forests to learn general features that make ligands \"drug-like.\" However, the affinity of a drug for a target is determined not only by the drug itself, of course, but the way in which it interacts with a protein. "
   ]
  },
  {
   "cell_type": "code",
   "execution_count": 22,
   "metadata": {
    "collapsed": false
   },
   "outputs": [
    {
     "name": "stdout",
     "output_type": "stream",
     "text": [
      "Model 0/5, Metric r2_score, Validation set 0: 0.686145\n",
      "\tbest_validation_score so  far: -inf\n",
      "Model 1/5, Metric r2_score, Validation set 1: 0.688894\n",
      "\tbest_validation_score so  far: 0.686145\n",
      "Model 2/5, Metric r2_score, Validation set 2: 0.733131\n",
      "\tbest_validation_score so  far: 0.688894\n",
      "Model 3/5, Metric r2_score, Validation set 3: 0.753555\n",
      "\tbest_validation_score so  far: 0.733131\n",
      "Model 4/5, Metric r2_score, Validation set 4: 0.747959\n",
      "\tbest_validation_score so  far: 0.753555\n",
      "Best hyperparameters: [('n_estimators', 80), ('data_shape', (128,))]\n",
      "train_score: 0.870723\n",
      "validation_score: 0.753555\n"
     ]
    }
   ],
   "source": [
    "import deepchem.models.standard\n",
    "from deepchem.models.standard import SklearnModel\n",
    "from deepchem.utils.dataset import Dataset\n",
    "from deepchem.utils.evaluate import Evaluator\n",
    "from deepchem.hyperparameters import HyperparamOpt\n",
    "\n",
    "train_dir, validation_dir, test_dir = tempfile.mkdtemp(), tempfile.mkdtemp(), tempfile.mkdtemp()\n",
    "splittype=\"random\"\n",
    "train_samples, validation_samples, test_samples = featurized_samples.train_valid_test_split(\n",
    "    splittype, train_dir, validation_dir, test_dir, seed=2016)\n",
    "\n",
    "task_types = {\"label\": \"regression\"}\n",
    "performance = pd.DataFrame()\n",
    "\n",
    "def model_builder(task_types, params_dict, verbosity):\n",
    "    n_estimators = params_dict[\"n_estimators\"]\n",
    "    return SklearnModel(\n",
    "        task_types, params_dict,\n",
    "        model_instance=RandomForestRegressor(n_estimators=n_estimators))\n",
    "\n",
    "params_dict = {\n",
    "    \"n_estimators\": [10, 20, 40, 80, 160],\n",
    "    \"data_shape\": [train_dataset.get_data_shape()],\n",
    "    }\n",
    "\n",
    "optimizer = HyperparamOpt(model_builder, {\"pIC50\": \"regression\"})\n",
    "for feature_type in (complex_featurizers + compound_featurizers):\n",
    "    train_dataset = Dataset(data_dir=train_dir, samples=train_samples, \n",
    "                            featurizers=[feature_type], tasks=[\"label\"])\n",
    "    validation_dataset = Dataset(data_dir=validation_dir, samples=validation_samples, \n",
    "                                 featurizers=[feature_type], tasks=[\"label\"])\n",
    "\n",
    "    for transformer in transformers:\n",
    "        transformer.transform(train_dataset)\n",
    "    for transformer in transformers:\n",
    "        transformer.transform(test_dataset)\n",
    "        \n",
    "    best_rf, best_rf_hyperparams, all_rf_results = optimizer.hyperparam_search(\n",
    "    params_dict, train_dataset, test_dataset, output_transformers, metric=\"r2_score\")"
   ]
  },
  {
   "cell_type": "code",
   "execution_count": 23,
   "metadata": {
    "collapsed": false,
    "scrolled": false
   },
   "outputs": [],
   "source": [
    "%matplotlib inline\n",
    "\n",
    "import matplotlib\n",
    "import numpy as np\n",
    "import matplotlib.pyplot as plt\n",
    "\n",
    "# TODO(rbharath, enf): Need to fix this to work with new hyperparam-opt framework.\n",
    "\n",
    "#df = pd.DataFrame(performance[['r2_score','split','featurizer']].values, index=performance['n_trees'].values, columns=['r2_score', 'split', 'featurizer'])\n",
    "#df = df.loc[df['split']==\"validation\"]\n",
    "#df = df.drop('split', 1)\n",
    "#fingerprint_df = df[df['featurizer'].str.contains('fingerprint')].drop('featurizer', 1)\n",
    "#print fingerprint_df\n",
    "#fingerprint_df.columns = ['ligand fingerprints']\n",
    "#grid_df = df[df['featurizer'].str.contains('grid')].drop('featurizer', 1)\n",
    "#grid_df.columns = ['complex features']\n",
    "#df = pd.concat([fingerprint_df, grid_df], axis=1)\n",
    "#print(df)\n",
    "\n",
    "#plt.clf()\n",
    "#df.plot()\n",
    "#plt.ylabel(\"$R^2$\")\n",
    "#plt.xlabel(\"Number of trees\")"
   ]
  },
  {
   "cell_type": "code",
   "execution_count": 36,
   "metadata": {
    "collapsed": false
   },
   "outputs": [
    {
     "name": "stdout",
     "output_type": "stream",
     "text": [
      "feature_types\n",
      "[]\n",
      "feature_types\n",
      "[]\n",
      "feature_types\n",
      "[]\n",
      "feature_types\n",
      "[]\n",
      "feature_types\n",
      "[]\n",
      "feature_types\n",
      "[]\n",
      "feature_types\n",
      "[]\n",
      "feature_types\n",
      "[]\n",
      "feature_types\n",
      "[]\n",
      "feature_types\n",
      "[]\n",
      "feature_types\n",
      "[]\n",
      "feature_types\n",
      "[]\n",
      "feature_types\n",
      "[]\n",
      "feature_types\n",
      "[]\n",
      "feature_types\n",
      "[]\n",
      "feature_types\n",
      "[]\n",
      "feature_types\n",
      "[]\n",
      "feature_types\n",
      "[]\n",
      "feature_types\n",
      "[]\n",
      "feature_types\n",
      "[]\n",
      "feature_types\n",
      "[]\n",
      "feature_types\n",
      "[]\n"
     ]
    },
    {
     "ename": "ValueError",
     "evalue": "need at least one array to stack",
     "traceback": [
      "\u001b[1;31m---------------------------------------------------------------------------\u001b[0m",
      "\u001b[1;31mValueError\u001b[0m                                Traceback (most recent call last)",
      "\u001b[1;32m<ipython-input-36-e47c7d5b4d3d>\u001b[0m in \u001b[0;36m<module>\u001b[1;34m()\u001b[0m\n\u001b[0;32m      6\u001b[0m \u001b[0mfeature_type\u001b[0m \u001b[1;33m=\u001b[0m \u001b[0mcomplex_featurizers\u001b[0m\u001b[1;33m\u001b[0m\u001b[0m\n\u001b[0;32m      7\u001b[0m train_dataset = Dataset(data_dir=train_dir, samples=train_samples, \n\u001b[1;32m----> 8\u001b[1;33m                     featurizers=feature_type, tasks=[\"label\"])\n\u001b[0m\u001b[0;32m      9\u001b[0m validation_dataset = Dataset(data_dir=validation_dir, samples=validation_samples, \n\u001b[0;32m     10\u001b[0m                    featurizers=feature_type, tasks=[\"label\"])\n",
      "\u001b[1;32m/home/rbharath/deepchem/deepchem/utils/dataset.py\u001b[0m in \u001b[0;36m__init__\u001b[1;34m(self, data_dir, tasks, samples, featurizers, use_user_specified_features)\u001b[0m\n\u001b[0;32m     50\u001b[0m       \u001b[1;31m# TODO(rbharath): Still a bit of information leakage.\u001b[0m\u001b[1;33m\u001b[0m\u001b[1;33m\u001b[0m\u001b[0m\n\u001b[0;32m     51\u001b[0m       \u001b[1;32mfor\u001b[0m \u001b[0mdf_file\u001b[0m\u001b[1;33m,\u001b[0m \u001b[0mdf\u001b[0m \u001b[1;32min\u001b[0m \u001b[0mzip\u001b[0m\u001b[1;33m(\u001b[0m\u001b[0msamples\u001b[0m\u001b[1;33m.\u001b[0m\u001b[0mdataset_files\u001b[0m\u001b[1;33m,\u001b[0m \u001b[0msamples\u001b[0m\u001b[1;33m.\u001b[0m\u001b[0miterdataframes\u001b[0m\u001b[1;33m(\u001b[0m\u001b[1;33m)\u001b[0m\u001b[1;33m)\u001b[0m\u001b[1;33m:\u001b[0m\u001b[1;33m\u001b[0m\u001b[0m\n\u001b[1;32m---> 52\u001b[1;33m         \u001b[0mretval\u001b[0m \u001b[1;33m=\u001b[0m \u001b[0mwrite_dataset_single_partial\u001b[0m\u001b[1;33m(\u001b[0m\u001b[1;33m(\u001b[0m\u001b[0mdf_file\u001b[0m\u001b[1;33m,\u001b[0m \u001b[0mdf\u001b[0m\u001b[1;33m)\u001b[0m\u001b[1;33m)\u001b[0m\u001b[1;33m\u001b[0m\u001b[0m\n\u001b[0m\u001b[0;32m     53\u001b[0m         \u001b[1;32mif\u001b[0m \u001b[0mretval\u001b[0m \u001b[1;32mis\u001b[0m \u001b[1;32mnot\u001b[0m \u001b[0mNone\u001b[0m\u001b[1;33m:\u001b[0m\u001b[1;33m\u001b[0m\u001b[0m\n\u001b[0;32m     54\u001b[0m           \u001b[0mmetadata_rows\u001b[0m\u001b[1;33m.\u001b[0m\u001b[0mappend\u001b[0m\u001b[1;33m(\u001b[0m\u001b[0mretval\u001b[0m\u001b[1;33m)\u001b[0m\u001b[1;33m\u001b[0m\u001b[0m\n",
      "\u001b[1;32m/home/rbharath/deepchem/deepchem/utils/dataset.py\u001b[0m in \u001b[0;36mwrite_dataset_single\u001b[1;34m(val, data_dir, feature_types, tasks)\u001b[0m\n\u001b[0;32m    180\u001b[0m     \u001b[1;32mreturn\u001b[0m \u001b[0mNone\u001b[0m\u001b[1;33m\u001b[0m\u001b[0m\n\u001b[0;32m    181\u001b[0m   \u001b[0mtask_names\u001b[0m \u001b[1;33m=\u001b[0m \u001b[0msorted\u001b[0m\u001b[1;33m(\u001b[0m\u001b[0mtasks\u001b[0m\u001b[1;33m)\u001b[0m\u001b[1;33m\u001b[0m\u001b[0m\n\u001b[1;32m--> 182\u001b[1;33m   \u001b[0mids\u001b[0m\u001b[1;33m,\u001b[0m \u001b[0mX\u001b[0m\u001b[1;33m,\u001b[0m \u001b[0my\u001b[0m\u001b[1;33m,\u001b[0m \u001b[0mw\u001b[0m \u001b[1;33m=\u001b[0m \u001b[0m_df_to_numpy\u001b[0m\u001b[1;33m(\u001b[0m\u001b[0mdf\u001b[0m\u001b[1;33m,\u001b[0m \u001b[0mfeature_types\u001b[0m\u001b[1;33m,\u001b[0m \u001b[0mtasks\u001b[0m\u001b[1;33m)\u001b[0m\u001b[1;33m\u001b[0m\u001b[0m\n\u001b[0m\u001b[0;32m    183\u001b[0m   \u001b[0mX_sums\u001b[0m\u001b[1;33m,\u001b[0m \u001b[0mX_sum_squares\u001b[0m\u001b[1;33m,\u001b[0m \u001b[0mX_n\u001b[0m \u001b[1;33m=\u001b[0m \u001b[0mcompute_sums_and_nb_sample\u001b[0m\u001b[1;33m(\u001b[0m\u001b[0mX\u001b[0m\u001b[1;33m)\u001b[0m\u001b[1;33m\u001b[0m\u001b[0m\n\u001b[0;32m    184\u001b[0m   \u001b[0my_sums\u001b[0m\u001b[1;33m,\u001b[0m \u001b[0my_sum_squares\u001b[0m\u001b[1;33m,\u001b[0m \u001b[0my_n\u001b[0m \u001b[1;33m=\u001b[0m \u001b[0mcompute_sums_and_nb_sample\u001b[0m\u001b[1;33m(\u001b[0m\u001b[0my\u001b[0m\u001b[1;33m,\u001b[0m \u001b[0mw\u001b[0m\u001b[1;33m)\u001b[0m\u001b[1;33m\u001b[0m\u001b[0m\n",
      "\u001b[1;32m/home/rbharath/deepchem/deepchem/utils/dataset.py\u001b[0m in \u001b[0;36m_df_to_numpy\u001b[1;34m(df, feature_types, tasks)\u001b[0m\n\u001b[0;32m    240\u001b[0m       \u001b[1;32mcontinue\u001b[0m\u001b[1;33m\u001b[0m\u001b[0m\n\u001b[0;32m    241\u001b[0m     \u001b[0mtensors\u001b[0m\u001b[1;33m.\u001b[0m\u001b[0mappend\u001b[0m\u001b[1;33m(\u001b[0m\u001b[0mfeatures\u001b[0m\u001b[1;33m)\u001b[0m\u001b[1;33m\u001b[0m\u001b[0m\n\u001b[1;32m--> 242\u001b[1;33m   \u001b[0mx\u001b[0m \u001b[1;33m=\u001b[0m \u001b[0mnp\u001b[0m\u001b[1;33m.\u001b[0m\u001b[0mstack\u001b[0m\u001b[1;33m(\u001b[0m\u001b[0mtensors\u001b[0m\u001b[1;33m)\u001b[0m\u001b[1;33m\u001b[0m\u001b[0m\n\u001b[0m\u001b[0;32m    243\u001b[0m   \u001b[0msorted_ids\u001b[0m \u001b[1;33m=\u001b[0m \u001b[0mdf\u001b[0m\u001b[1;33m[\u001b[0m\u001b[1;34m\"mol_id\"\u001b[0m\u001b[1;33m]\u001b[0m\u001b[1;33m\u001b[0m\u001b[0m\n\u001b[0;32m    244\u001b[0m \u001b[1;33m\u001b[0m\u001b[0m\n",
      "\u001b[1;32m/home/rbharath/anaconda/lib/python2.7/site-packages/numpy/core/shape_base.pyc\u001b[0m in \u001b[0;36mstack\u001b[1;34m(arrays, axis)\u001b[0m\n\u001b[0;32m    333\u001b[0m     \u001b[0marrays\u001b[0m \u001b[1;33m=\u001b[0m \u001b[1;33m[\u001b[0m\u001b[0masanyarray\u001b[0m\u001b[1;33m(\u001b[0m\u001b[0marr\u001b[0m\u001b[1;33m)\u001b[0m \u001b[1;32mfor\u001b[0m \u001b[0marr\u001b[0m \u001b[1;32min\u001b[0m \u001b[0marrays\u001b[0m\u001b[1;33m]\u001b[0m\u001b[1;33m\u001b[0m\u001b[0m\n\u001b[0;32m    334\u001b[0m     \u001b[1;32mif\u001b[0m \u001b[1;32mnot\u001b[0m \u001b[0marrays\u001b[0m\u001b[1;33m:\u001b[0m\u001b[1;33m\u001b[0m\u001b[0m\n\u001b[1;32m--> 335\u001b[1;33m         \u001b[1;32mraise\u001b[0m \u001b[0mValueError\u001b[0m\u001b[1;33m(\u001b[0m\u001b[1;34m'need at least one array to stack'\u001b[0m\u001b[1;33m)\u001b[0m\u001b[1;33m\u001b[0m\u001b[0m\n\u001b[0m\u001b[0;32m    336\u001b[0m \u001b[1;33m\u001b[0m\u001b[0m\n\u001b[0;32m    337\u001b[0m     \u001b[0mshapes\u001b[0m \u001b[1;33m=\u001b[0m \u001b[0mset\u001b[0m\u001b[1;33m(\u001b[0m\u001b[0marr\u001b[0m\u001b[1;33m.\u001b[0m\u001b[0mshape\u001b[0m \u001b[1;32mfor\u001b[0m \u001b[0marr\u001b[0m \u001b[1;32min\u001b[0m \u001b[0marrays\u001b[0m\u001b[1;33m)\u001b[0m\u001b[1;33m\u001b[0m\u001b[0m\n",
      "\u001b[1;31mValueError\u001b[0m: need at least one array to stack"
     ],
     "output_type": "error"
    }
   ],
   "source": [
    "train_dir, validation_dir, test_dir = tempfile.mkdtemp(), tempfile.mkdtemp(), tempfile.mkdtemp()\n",
    "splittype=\"random\"\n",
    "train_samples, validation_samples, test_samples = featurized_samples.train_valid_test_split(\n",
    "    splittype, train_dir, validation_dir, test_dir, seed=2016)\n",
    "\n",
    "feature_type = complex_featurizers\n",
    "train_dataset = Dataset(data_dir=train_dir, samples=train_samples, \n",
    "                    featurizers=feature_type, tasks=[\"label\"])\n",
    "validation_dataset = Dataset(data_dir=validation_dir, samples=validation_samples, \n",
    "                   featurizers=feature_type, tasks=[\"label\"])\n",
    "test_dataset = Dataset(data_dir=test_dir, samples=test_samples, \n",
    "                   featurizers=feature_type, tasks=[\"label\"])\n",
    "\n",
    "for transformer in transformers:\n",
    "    transformer.transform(train_dataset)\n",
    "for transformer in transformers:\n",
    "    transformer.transform(valid_dataset)\n",
    "for transformer in transformers:\n",
    "    transformer.transform(test_dataset)\n",
    "\n",
    "model_params = {\"data_shape\": train_dataset.get_data_shape()}\n",
    "rf_model = SklearnModel(task_types, model_params, model_instance=RandomForestRegressor(n_estimators=20))\n",
    "rf_model.fit(train_dataset)\n",
    "model_dir = tempfile.mkdtemp()\n",
    "rf_model.save(model_dir)\n",
    "\n",
    "\n",
    "evaluator = Evaluator(rf_model, train_dataset, output_transformers, verbose=True)\n",
    "with tempfile.NamedTemporaryFile() as train_csv_out:\n",
    "  with tempfile.NamedTemporaryFile() as train_stats_out:\n",
    "    _, train_r2score = evaluator.compute_model_performance(\n",
    "        train_csv_out, train_stats_out)\n",
    "\n",
    "evaluator = Evaluator(rf_model, test_dataset, output_transformers, verbose=True)\n",
    "test_csv_out = tempfile.NamedTemporaryFile()\n",
    "with tempfile.NamedTemporaryFile() as test_stats_out:\n",
    "    predictions, test_r2score = evaluator.compute_model_performance(\n",
    "        test_csv_out, test_stats_out)\n",
    "\n",
    "train_test_performance = pd.concat([train_r2score, test_r2score])\n",
    "train_test_performance[\"split\"] = [\"train\", \"test\"]\n",
    "train_test_performance[\"featurizer\"] = [str(feature_type.__class__), str(feature_type.__class__)]\n",
    "train_test_performance[\"n_trees\"] = [n_trees, n_trees]\n",
    "print(train_test_performance)"
   ]
  },
  {
   "cell_type": "code",
   "execution_count": null,
   "metadata": {
    "collapsed": false,
    "scrolled": true
   },
   "outputs": [],
   "source": [
    "import deepchem.models.deep\n",
    "from deepchem.models.deep import SingleTaskDNN\n",
    "import numpy.random\n",
    "from operator import mul\n",
    "import itertools\n",
    "\n",
    "params_dict = {\"activation\": [\"relu\"],\n",
    "                \"momentum\": [.9],\n",
    "                \"batch_size\": [50],\n",
    "                \"init\": [\"glorot_uniform\"],\n",
    "                \"data_shape\": [train_dataset.get_data_shape()],\n",
    "                \"learning_rate\": np.power(10., np.random.uniform(-5, -2, size=5)),\n",
    "                \"decay\": np.power(10., np.random.uniform(-6, -4, size=5)),\n",
    "                \"nb_hidden\": [1000],\n",
    "                \"nb_epoch\": [40],\n",
    "                \"nesterov\": [False],\n",
    "                \"dropout\": [.5],\n",
    "                \"nb_layers\": [1],\n",
    "                \"batchnorm\": [False],\n",
    "              }\n",
    "\n",
    "\n",
    "optimizer = HyperparamOpt(SingleTaskDNN, task_types)\n",
    "best_dnn, best_hyperparams, all_results = optimizer.hyperparam_search(\n",
    "    params_dict, train_dataset, valid_dataset, output_transformers, metric=\"r2_score\", verbosity=None)"
   ]
  },
  {
   "cell_type": "code",
   "execution_count": null,
   "metadata": {
    "collapsed": false
   },
   "outputs": [],
   "source": [
    "dnn_test_csv_out = tempfile.NamedTemporaryFile()\n",
    "dnn_test_stats_out = tempfile.NamedTemporaryFile()\n",
    "dnn_test_evaluator = Evaluator(best_dnn, test_dataset)\n",
    "dnn_test_df, dnn_test_r2score = dnn_test_evaluator.compute_model_performance(\n",
    "    dnn_test_csv_out, dnn_test_stats_out)\n",
    "dnn_test_r2_score = dnn_test_r2score.iloc[0][\"r2_score\"]\n",
    "print(\"DNN Test set R^2 %f\" % (dnn_test_r2_score))\n",
    "\n",
    "task = \"label\"\n",
    "dnn_predicted_test = np.array(dnn_test_df[task + \"_pred\"])\n",
    "dnn_true_test = np.array(dnn_test_df[task])\n",
    "\n",
    "plt.clf()\n",
    "plt.scatter(dnn_true_test, dnn_predicted_test)\n",
    "plt.xlabel('Predicted Ki')\n",
    "plt.ylabel('True Ki')\n",
    "plt.title(r'DNN predicted vs. true Ki')\n",
    "plt.xlim([-2, 2])\n",
    "plt.ylim([-2, 2])\n",
    "plt.plot([-3, 3], [-3, 3], marker=\".\", color='k')\n",
    "\n",
    "rf_test_csv_out = tempfile.NamedTemporaryFile()\n",
    "rf_test_stats_out = tempfile.NamedTemporaryFile()\n",
    "rf_test_evaluator = Evaluator(rf_model, test_dataset)\n",
    "rf_test_df, rf_test_r2score = rf_test_evaluator.compute_model_performance(\n",
    "    rf_test_csv_out, rf_test_stats_out)\n",
    "rf_test_r2_score = rf_test_r2score.iloc[0][\"r2_score\"]\n",
    "print(\"RF Test set R^2 %f\" % (rf_test_r2_score))\n",
    "plt.show()\n",
    "\n",
    "task = \"label\"\n",
    "rf_predicted_test = np.array(rf_test_df[task + \"_pred\"])\n",
    "rf_true_test = np.array(rf_test_df[task])\n",
    "plt.scatter(rf_true_test, rf_predicted_test)\n",
    "plt.xlabel('Predicted Ki')\n",
    "plt.ylabel('True Ki')\n",
    "plt.title(r'RF predicted vs. true Ki')\n",
    "plt.xlim([-2, 2])\n",
    "plt.ylim([-2, 2])\n",
    "plt.plot([-3, 3], [-3, 3], marker=\".\", color='k')\n",
    "plt.show()"
   ]
  },
  {
   "cell_type": "code",
   "execution_count": null,
   "metadata": {
    "collapsed": false
   },
   "outputs": [],
   "source": [
    "predictions = dnn_test_df.sort(['label'], ascending=[0])"
   ]
  },
  {
   "cell_type": "code",
   "execution_count": null,
   "metadata": {
    "collapsed": false
   },
   "outputs": [],
   "source": [
    "top_complex = predictions.iloc[0]['ids']\n",
    "best_complex = dataset.loc[dataset['complex_id']==top_complex]\n",
    "\n",
    "protein_mdtraj = convert_lines_to_mdtraj(best_complex[\"protein_pdb\"].values[0])\n",
    "ligand_mdtraj = convert_lines_to_mdtraj(best_complex[\"ligand_pdb\"].values[0])\n",
    "complex_mdtraj = combine_mdtraj(protein_mdtraj, ligand_mdtraj)\n",
    "if DISPLAY:\n",
    "    ngltraj = visualize_complex(complex_mdtraj)\n",
    "    ngltraj"
   ]
  },
  {
   "cell_type": "code",
   "execution_count": null,
   "metadata": {
    "collapsed": true
   },
   "outputs": [],
   "source": [
    "top_complex = predictions.iloc[1]['ids']\n",
    "best_complex = dataset.loc[dataset['complex_id']==top_complex]\n",
    "\n",
    "protein_mdtraj = convert_lines_to_mdtraj(best_complex[\"protein_pdb\"].values[0])\n",
    "ligand_mdtraj = convert_lines_to_mdtraj(best_complex[\"ligand_pdb\"].values[0])\n",
    "complex_mdtraj = combine_mdtraj(protein_mdtraj, ligand_mdtraj)\n",
    "if DISPLAY:\n",
    "    ngltraj = visualize_complex(complex_mdtraj)\n",
    "    ngltraj"
   ]
  },
  {
   "cell_type": "code",
   "execution_count": null,
   "metadata": {
    "collapsed": false
   },
   "outputs": [],
   "source": [
    "top_complex = predictions.iloc[predictions.shape[0]-1]['ids']\n",
    "best_complex = dataset.loc[dataset['complex_id']==top_complex]\n",
    "\n",
    "protein_mdtraj = convert_lines_to_mdtraj(best_complex[\"protein_pdb\"].values[0])\n",
    "ligand_mdtraj = convert_lines_to_mdtraj(best_complex[\"ligand_pdb\"].values[0])\n",
    "complex_mdtraj = combine_mdtraj(protein_mdtraj, ligand_mdtraj)\n",
    "if DISPLAY:\n",
    "    ngltraj = visualize_complex(complex_mdtraj)\n",
    "    ngltraj"
   ]
  }
 ],
 "metadata": {
  "celltoolbar": "Slideshow",
  "kernelspec": {
   "display_name": "Python 2",
   "language": "python",
   "name": "python2"
  },
  "language_info": {
   "codemirror_mode": {
    "name": "ipython",
    "version": 2.0
   },
   "file_extension": ".py",
   "mimetype": "text/x-python",
   "name": "python",
   "nbconvert_exporter": "python",
   "pygments_lexer": "ipython2",
   "version": "2.7.11"
  }
 },
 "nbformat": 4,
 "nbformat_minor": 0
}